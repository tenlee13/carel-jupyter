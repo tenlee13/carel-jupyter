{
 "cells": [
  {
   "cell_type": "code",
   "execution_count": 1,
   "metadata": {},
   "outputs": [],
   "source": [
    "from carel import Carel\n",
    "from carelgrid import CarelGrid\n",
    "from gamecanvas import GameCanvas\n"
   ]
  },
  {
   "cell_type": "code",
   "execution_count": 7,
   "metadata": {},
   "outputs": [],
   "source": [
    "class CarelCounter(Carel):\n",
    "    \n",
    "    def __init__(self,canvas, grid):\n",
    "        self.direction = 3\n",
    "        super().__init_(canvas, grid)\n",
    "        \n",
    "\n",
    "    def fill_field(self):\n",
    "        while True:\n",
    "            self.fill_to_wall()\n",
    "            self.turn_right()\n",
    "            if not self.is_front_clear():\n",
    "                break\n",
    "            self.move()\n",
    "            self.turn_right()\n",
    "            self.fill_to_wall()\n",
    "            self.turn_left()\n",
    "            if not self.is_front_clear():\n",
    "                break\n",
    "            self.move()\n",
    "            self.turn_left()\n",
    "            \n",
    "    def fill_to_wall(self):\n",
    "        while True:\n",
    "            self.drop_beeper()\n",
    "            if not self.is_front_clear():\n",
    "                break\n",
    "            self.move()\n",
    "    \n",
    "    def turn_right(self):\n",
    "        self.turn_left()\n",
    "        self.turn_left()\n",
    "        self.turn_left()\n",
    "    \n",
    "    def collect_beeper(self):\n",
    "        super().collect_beeper()\n",
    "        self.counter = self.counter + 1"
   ]
  },
  {
   "cell_type": "code",
   "execution_count": 8,
   "metadata": {},
   "outputs": [
    {
     "ename": "SyntaxError",
     "evalue": "invalid syntax (<ipython-input-8-66c86e21aeae>, line 13)",
     "output_type": "error",
     "traceback": [
      "\u001b[1;36m  File \u001b[1;32m\"<ipython-input-8-66c86e21aeae>\"\u001b[1;36m, line \u001b[1;32m13\u001b[0m\n\u001b[1;33m    def move():\u001b[0m\n\u001b[1;37m      ^\u001b[0m\n\u001b[1;31mSyntaxError\u001b[0m\u001b[1;31m:\u001b[0m invalid syntax\n"
     ]
    }
   ],
   "source": [
    "field = [[0 for x in range(6)] for y in range(4)]\n",
    "\n",
    "field[0][1] = 1\n",
    "field[1][0] = 2\n",
    "field[3][2] = 1\n",
    "\n",
    "grid = CarelGrid(field)\n",
    "canvas = GameCanvas(speed=3);\n",
    "carel = CarelCounter(canvas, grid);\n",
    "\n",
    "carel.initiate_counter(\n",
    "\n",
    "def move():\n",
    "    carel.move()\n",
    "def turn_left():\n",
    "    carel.turn_left()\n",
    "def drop_beeper():\n",
    "    carel.drop_beeper()\n",
    "def collect_beeper():\n",
    "    carel.collect_beeper()\n",
    "def is_beeper():\n",
    "    return carel.is_beeper()\n",
    "def is_front_clear():\n",
    "    return carel.is_front_clear()\n",
    "def fill_field():\n",
    "    carel.fill_field()\n",
    "def show():\n",
    "    carel.show()"
   ]
  },
  {
   "cell_type": "code",
   "execution_count": 1,
   "metadata": {},
   "outputs": [
    {
     "ename": "SyntaxError",
     "evalue": "'break' outside loop (cell_name, line 34)",
     "output_type": "error",
     "traceback": [
      "\u001b[1;36m  File \u001b[1;32m\"cell_name\"\u001b[1;36m, line \u001b[1;32m34\u001b[0m\n\u001b[1;31mSyntaxError\u001b[0m\u001b[1;31m:\u001b[0m 'break' outside loop\n"
     ]
    }
   ],
   "source": [
    "# New methods go here\n",
    "\n",
    "# Example\n",
    "\n",
    "\n",
    "\n",
    "def turn_around():\n",
    "    turn_left()\n",
    "    turn_left()\n",
    "\n",
    "def clear_to_wall():\n",
    "    while True:\n",
    "        clear_cell()\n",
    "        if not is_front_clear():\n",
    "            break\n",
    "        move()\n",
    "\n",
    "def clear_cell():\n",
    "    while is_beeper():\n",
    "        collect_beeper()\n",
    "\n",
    "def turn_right():\n",
    "    turn_left()\n",
    "    turn_left()\n",
    "    turn_left()\n",
    "    \n",
    "def back_home():\n",
    "    while True:\n",
    "        move()\n",
    "    if move_west(self):\n",
    "        break\n",
    "    move()\n",
    "    if  move_east(self):\n",
    "        turn_left()\n",
    "        turn_left()\n",
    "        move()\n",
    "    if move_north(self):\n",
    "        turn_left()\n",
    "        move()\n",
    "    if move_south(self):\n",
    "        turn_right()\n",
    "        move()\n",
    "    if not is_front_clear():\n",
    "        break\n",
    "    move()\n",
    "    turn_left()\n",
    "    turn_left()\n",
    "    \n",
    "def move_west(self):\n",
    "    while True:\n",
    "        move()\n",
    "    if not is_front_clear():\n",
    "        break\n",
    "    turn_right()\n",
    "    move()\n",
    "    turn_left()\n",
    "        \n",
    "def move_east(self):\n",
    "    while True:\n",
    "        move()\n",
    "    if move_east(self) == move_west(self):\n",
    "        break\n",
    "    turn_left()\n",
    "    turn_left()\n",
    "    move()\n",
    "    \n",
    "def move_north(self):\n",
    "    if move_north(self) == move_west(self):\n",
    "        break\n",
    "    turn_left()\n",
    "    move()\n",
    "    \n",
    "def move_south(self):\n",
    "    if move_south(self) == move_west(self):\n",
    "        break\n",
    "    turn_right()\n",
    "    move()\n",
    "        "
   ]
  },
  {
   "cell_type": "code",
   "execution_count": 10,
   "metadata": {},
   "outputs": [
    {
     "ename": "NameError",
     "evalue": "name 'clear_to_wall' is not defined",
     "output_type": "error",
     "traceback": [
      "\u001b[1;31m---------------------------------------------------------------------------\u001b[0m",
      "\u001b[1;31mNameError\u001b[0m                                 Traceback (most recent call last)",
      "\u001b[1;32m<ipython-input-10-2cf2efe10407>\u001b[0m in \u001b[0;36m<module>\u001b[1;34m\u001b[0m\n\u001b[0;32m      1\u001b[0m \u001b[1;32mwhile\u001b[0m \u001b[1;32mTrue\u001b[0m\u001b[1;33m:\u001b[0m\u001b[1;33m\u001b[0m\u001b[1;33m\u001b[0m\u001b[0m\n\u001b[1;32m----> 2\u001b[1;33m     \u001b[0mclear_to_wall\u001b[0m\u001b[1;33m(\u001b[0m\u001b[1;33m)\u001b[0m\u001b[1;33m\u001b[0m\u001b[1;33m\u001b[0m\u001b[0m\n\u001b[0m\u001b[0;32m      3\u001b[0m     \u001b[0mturn_right\u001b[0m\u001b[1;33m(\u001b[0m\u001b[1;33m)\u001b[0m\u001b[1;33m\u001b[0m\u001b[1;33m\u001b[0m\u001b[0m\n\u001b[0;32m      4\u001b[0m     \u001b[1;32mif\u001b[0m \u001b[1;32mnot\u001b[0m \u001b[0mis_front_clear\u001b[0m\u001b[1;33m(\u001b[0m\u001b[1;33m)\u001b[0m\u001b[1;33m:\u001b[0m\u001b[1;33m\u001b[0m\u001b[1;33m\u001b[0m\u001b[0m\n\u001b[0;32m      5\u001b[0m         \u001b[1;32mbreak\u001b[0m\u001b[1;33m\u001b[0m\u001b[1;33m\u001b[0m\u001b[0m\n",
      "\u001b[1;31mNameError\u001b[0m: name 'clear_to_wall' is not defined"
     ]
    }
   ],
   "source": [
    "while True:\n",
    "    clear_to_wall()\n",
    "    turn_right()\n",
    "    if not is_front_clear():\n",
    "        break\n",
    "    move()\n",
    "    turn_right()\n",
    "    clear_to_wall()\n",
    "    turn_left()\n",
    "    if not is_front_clear():\n",
    "        break\n",
    "    move()\n",
    "    turn_left()\n",
    "\n",
    "for i in range(carel.counter):\n",
    "    drop_beeper()\n",
    "    "
   ]
  },
  {
   "cell_type": "code",
   "execution_count": 11,
   "metadata": {},
   "outputs": [
    {
     "ename": "NameError",
     "evalue": "name 'carel' is not defined",
     "output_type": "error",
     "traceback": [
      "\u001b[1;31m---------------------------------------------------------------------------\u001b[0m",
      "\u001b[1;31mNameError\u001b[0m                                 Traceback (most recent call last)",
      "\u001b[1;32m<ipython-input-11-2d76bf0ac393>\u001b[0m in \u001b[0;36m<module>\u001b[1;34m\u001b[0m\n\u001b[1;32m----> 1\u001b[1;33m \u001b[0mcarel\u001b[0m\u001b[1;33m.\u001b[0m\u001b[0mfill_field\u001b[0m\u001b[1;33m(\u001b[0m\u001b[1;33m)\u001b[0m\u001b[1;33m\u001b[0m\u001b[1;33m\u001b[0m\u001b[0m\n\u001b[0m",
      "\u001b[1;31mNameError\u001b[0m: name 'carel' is not defined"
     ]
    }
   ],
   "source": [
    "carel.fill_field()"
   ]
  },
  {
   "cell_type": "code",
   "execution_count": 12,
   "metadata": {},
   "outputs": [
    {
     "ename": "NameError",
     "evalue": "name 'show' is not defined",
     "output_type": "error",
     "traceback": [
      "\u001b[1;31m---------------------------------------------------------------------------\u001b[0m",
      "\u001b[1;31mNameError\u001b[0m                                 Traceback (most recent call last)",
      "\u001b[1;32m<ipython-input-12-9eb7fa60ac78>\u001b[0m in \u001b[0;36m<module>\u001b[1;34m\u001b[0m\n\u001b[1;32m----> 1\u001b[1;33m \u001b[0mshow\u001b[0m\u001b[1;33m(\u001b[0m\u001b[1;33m)\u001b[0m\u001b[1;33m\u001b[0m\u001b[1;33m\u001b[0m\u001b[0m\n\u001b[0m",
      "\u001b[1;31mNameError\u001b[0m: name 'show' is not defined"
     ]
    }
   ],
   "source": [
    "show()"
   ]
  },
  {
   "cell_type": "code",
   "execution_count": 10,
   "metadata": {},
   "outputs": [
    {
     "name": "stdout",
     "output_type": "stream",
     "text": [
      "   2      3      2      2      2      4   \n",
      "   5      3      3      3      3      3   \n",
      "   3      3      3      3      3      3   \n",
      "',(3):v   2      3      2      2      2   \n"
     ]
    }
   ],
   "source": [
    "fill_field()"
   ]
  },
  {
   "cell_type": "code",
   "execution_count": 31,
   "metadata": {},
   "outputs": [
    {
     "ename": "NameError",
     "evalue": "name 'back_home' is not defined",
     "output_type": "error",
     "traceback": [
      "\u001b[1;31m---------------------------------------------------------------------------\u001b[0m",
      "\u001b[1;31mNameError\u001b[0m                                 Traceback (most recent call last)",
      "\u001b[1;32m<ipython-input-31-e1215bf48b2f>\u001b[0m in \u001b[0;36m<module>\u001b[1;34m\u001b[0m\n\u001b[1;32m----> 1\u001b[1;33m \u001b[0mback_home\u001b[0m\u001b[1;33m(\u001b[0m\u001b[1;33m)\u001b[0m\u001b[1;33m\u001b[0m\u001b[1;33m\u001b[0m\u001b[0m\n\u001b[0m",
      "\u001b[1;31mNameError\u001b[0m: name 'back_home' is not defined"
     ]
    }
   ],
   "source": []
  },
  {
   "cell_type": "code",
   "execution_count": null,
   "metadata": {},
   "outputs": [],
   "source": []
  }
 ],
 "metadata": {
  "kernelspec": {
   "display_name": "Python 3",
   "language": "python",
   "name": "python3"
  },
  "language_info": {
   "codemirror_mode": {
    "name": "ipython",
    "version": 3
   },
   "file_extension": ".py",
   "mimetype": "text/x-python",
   "name": "python",
   "nbconvert_exporter": "python",
   "pygments_lexer": "ipython3",
   "version": "3.7.1"
  }
 },
 "nbformat": 4,
 "nbformat_minor": 2
}
